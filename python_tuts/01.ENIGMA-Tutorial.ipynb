{
 "cells": [
  {
   "cell_type": "code",
   "execution_count": null,
   "metadata": {},
   "outputs": [],
   "source": [
    "import warnings\n",
    "warnings.filterwarnings('ignore')\n",
    "%matplotlib inline"
   ]
  },
  {
   "cell_type": "markdown",
   "metadata": {},
   "source": [
    "# ENIGMA Toolbox Tutorial"
   ]
  },
  {
   "cell_type": "markdown",
   "metadata": {},
   "source": [
    "### -----------------------------------\n",
    "###  1. Load ENIGMA datasets\n",
    "### -----------------------------------"
   ]
  },
  {
   "cell_type": "code",
   "execution_count": null,
   "metadata": {},
   "outputs": [],
   "source": [
    "# Load summary statistics\n",
    "\n",
    "from enigmatoolbox.datasets import load_summary_stats\n",
    "\n",
    "# Load summary statistics for ENIGMA-Epilepsy\n",
    "sum_stats = load_summary_stats('epilepsy')\n",
    "\n",
    "# Get case-control subcortical volume and cortical thickness tables\n",
    "SV = sum_stats['SubVol_case_vs_controls_ltle']\n",
    "CT = sum_stats['CortThick_case_vs_controls_ltle']\n",
    "\n",
    "# Extract Cohen's d values\n",
    "SV_d = SV['d_icv']\n",
    "CT_d = CT['d_icv']\n",
    "\n",
    "print(SV_d)"
   ]
  },
  {
   "cell_type": "markdown",
   "metadata": {},
   "source": [
    "### --------------------------------------\n",
    "###  2. Surface data visualization\n",
    "### --------------------------------------"
   ]
  },
  {
   "cell_type": "code",
   "execution_count": null,
   "metadata": {},
   "outputs": [],
   "source": [
    "from enigmatoolbox.utils.parcellation import parcel_to_surface\n",
    "from enigmatoolbox.plotting import plot_cortical\n",
    "\n",
    "# Map parcellated data to the surface\n",
    "CT_d_fsa5 = parcel_to_surface(CT_d, 'aparc_fsa5')\n",
    "\n",
    "# Project the results on the surface brain\n",
    "plot_cortical(array_name=CT_d_fsa5, surface_name=\"fsa5\", size=(1200, 200),\n",
    "              cmap='RdBu_r', color_bar=True, color_range=(-0.5, 0.5),\n",
    "              embed_nb=True, interactive=False)"
   ]
  },
  {
   "cell_type": "code",
   "execution_count": null,
   "metadata": {},
   "outputs": [],
   "source": [
    "from enigmatoolbox.plotting import plot_subcortical\n",
    "\n",
    "# Project the results on the surface brain\n",
    "plot_subcortical(array_name=SV_d, size=(1200, 200), embed_nb=True, interactive=False,\n",
    "                 cmap='RdBu_r', color_bar=True, color_range=(-0.5, 0.5))"
   ]
  },
  {
   "cell_type": "markdown",
   "metadata": {},
   "source": [
    "### -----------------------------------------------\n",
    "###  3. Economo-Koskinas stratification\n",
    "### -----------------------------------------------"
   ]
  },
  {
   "cell_type": "code",
   "execution_count": null,
   "metadata": {},
   "outputs": [],
   "source": [
    "from enigmatoolbox.histology import economo_koskinas_spider\n",
    "\n",
    "# Stratify cortical atrophy based on Economo-Koskinas classes\n",
    "class_mean = economo_koskinas_spider(CT_d, axis_range=(-0.4, 0))"
   ]
  },
  {
   "cell_type": "markdown",
   "metadata": {},
   "source": [
    "### ------------------------------------\n",
    "### 4. Hub susceptibility model\n",
    "### ------------------------------------"
   ]
  },
  {
   "cell_type": "code",
   "execution_count": null,
   "metadata": {},
   "outputs": [],
   "source": [
    "from enigmatoolbox.datasets import load_sc, load_fc\n",
    "from nilearn import plotting\n",
    "\n",
    "# Load cortico- and sucortico-cortical functional connectivity data\n",
    "fc_ctx, fc_ctx_labels, fc_sctx, fc_sctx_labels = load_fc()"
   ]
  },
  {
   "cell_type": "code",
   "execution_count": null,
   "metadata": {},
   "outputs": [],
   "source": [
    "import numpy as np\n",
    "from enigmatoolbox.plotting import plot_cortical\n",
    "from enigmatoolbox.utils.parcellation import parcel_to_surface\n",
    "\n",
    "# Compute weighted degree centrality measures from the connectivity data\n",
    "fc_ctx_dc = np.sum(fc_ctx, axis=0)\n",
    "\n",
    "# Map parcellated data to the surface\n",
    "fc_ctx_dc_fsa5 = parcel_to_surface(fc_ctx_dc, 'aparc_fsa5')\n",
    "\n",
    "# Project the results on the surface brain\n",
    "plot_cortical(array_name=fc_ctx_dc_fsa5, surface_name=\"fsa5\", size=(1200, 200),\n",
    "              embed_nb=True, cmap='Reds', color_bar=True, color_range=(20, 30),\n",
    "              interactive=False)"
   ]
  },
  {
   "cell_type": "code",
   "execution_count": null,
   "metadata": {},
   "outputs": [],
   "source": [
    "import numpy as np\n",
    "from enigmatoolbox.plotting import plot_subcortical\n",
    "\n",
    "# Compute weighted degree centrality measures from the connectivity data\n",
    "fc_sctx_dc = np.sum(fc_sctx, axis=1)\n",
    "\n",
    "# Project the results on the surface brain\n",
    "plot_subcortical(array_name=fc_sctx_dc, ventricles=False, size=(1200, 200),\n",
    "                 cmap='Reds', color_bar=True, color_range=(5, 10),\n",
    "                 embed_nb=True, interactive=False)"
   ]
  },
  {
   "cell_type": "code",
   "execution_count": null,
   "metadata": {},
   "outputs": [],
   "source": [
    "import numpy as np\n",
    "\n",
    "# Remove subcortical values corresponding to the ventricles\n",
    "# (as we don't have connectivity values for them!)\n",
    "SV_d_noVent = SV_d.drop([np.where(SV['Structure'] == 'LLatVent')[0][0],\n",
    "                        np.where(SV['Structure'] == 'RLatVent')[0][0]]).reset_index(drop=True)\n",
    "\n",
    "\n",
    "# Perform spatial correlations between functional hubs and Cohen's d\n",
    "fc_ctx_r = np.corrcoef(fc_ctx_dc, CT_d)[0, 1]\n",
    "fc_sctx_r = np.corrcoef(fc_sctx_dc, SV_d_noVent)[0, 1]\n",
    "\n",
    "# Store correlation coefficients\n",
    "rvals = {'functional cortical hubs': fc_ctx_r, 'functional subcortical hubs': fc_sctx_r}"
   ]
  },
  {
   "cell_type": "code",
   "execution_count": null,
   "metadata": {},
   "outputs": [],
   "source": [
    "import matplotlib.pyplot as plt\n",
    "import numpy as np\n",
    "\n",
    "# Store degree centrality and atrophy measures\n",
    "meas = {('functional cortical hubs', 'cortical thickness'): [fc_ctx_dc, CT_d],\n",
    "        ('functional subcortical hubs', 'subcortical volume'): [fc_sctx_dc, SV_d_noVent]}\n",
    "\n",
    "fig, axs = plt.subplots(1, 2, figsize=(15, 5))\n",
    "\n",
    "for k, (fn, dd) in enumerate(meas.items()):\n",
    "    # Plot relationships between hubs and atrophy\n",
    "    axs[k].scatter(meas[fn][0], meas[fn][1], color='#A8221C')\n",
    "    m, b = np.polyfit(meas[fn][0], meas[fn][1], 1)\n",
    "    axs[k].plot(meas[fn][0], m * meas[fn][0] + b, color='#A8221C')\n",
    "    axs[k].set_ylim((-1, 0.5))\n",
    "    axs[k].set_xlabel('{}'.format(fn[0].capitalize()))\n",
    "    axs[k].set_ylabel('{}'.format(fn[1].capitalize()))\n",
    "    axs[k].spines['top'].set_visible(False)\n",
    "    axs[k].spines['right'].set_visible(False)\n",
    "\n",
    "fig.tight_layout()\n",
    "plt.show()"
   ]
  },
  {
   "cell_type": "markdown",
   "metadata": {},
   "source": [
    "### ---------------------------------\n",
    "### 5. Spin permutation tests\n",
    "### ---------------------------------"
   ]
  },
  {
   "cell_type": "code",
   "execution_count": null,
   "metadata": {},
   "outputs": [],
   "source": [
    "from enigmatoolbox.permutation_testing import spin_test\n",
    "\n",
    "# Spin permutation testing for two cortical maps\n",
    "fc_ctx_p, fc_ctx_d = spin_test(fc_ctx_dc, CT_d, surface_name='fsa5', parcellation_name='aparc',\n",
    "                               type='pearson', n_rot=1000, null_dist=True)\n",
    "\n",
    "# Store p-values and null distributions\n",
    "p_and_d = {'functional cortical hubs': [fc_ctx_p, fc_ctx_d]}"
   ]
  },
  {
   "cell_type": "code",
   "execution_count": null,
   "metadata": {
    "scrolled": true
   },
   "outputs": [],
   "source": [
    "import matplotlib.pyplot as plt\n",
    "\n",
    "# Plot null distributions\n",
    "fig, axs = plt.subplots(1, figsize=(10, 5))\n",
    "\n",
    "for k, (fn, dd) in enumerate(p_and_d.items()):   \n",
    "    axs.hist(dd[1], bins=50, density=True, color='#A8221C', edgecolor='white', lw=0.5)\n",
    "    axs.axvline(rvals['functional cortical hubs'], lw=1.5, ls='--', color='k', dashes=(2, 3),\n",
    "                   label='$r$={:.2f}'.format(rvals['functional cortical hubs']) + '\\n$p$={:.3f}'.format(dd[0]))\n",
    "    axs.set_xlabel('Null correlations \\n ({})'.format('functional cortical hubs'))\n",
    "    axs.set_ylabel('Density')\n",
    "    axs.spines['top'].set_visible(False)\n",
    "    axs.spines['right'].set_visible(False)\n",
    "    axs.legend(loc=1, frameon=False)\n",
    "\n",
    "fig.tight_layout()\n",
    "plt.show()"
   ]
  }
 ],
 "metadata": {
  "kernelspec": {
   "display_name": "Python 3 (ipykernel)",
   "language": "python",
   "name": "python3"
  },
  "language_info": {
   "codemirror_mode": {
    "name": "ipython",
    "version": 3
   },
   "file_extension": ".py",
   "mimetype": "text/x-python",
   "name": "python",
   "nbconvert_exporter": "python",
   "pygments_lexer": "ipython3",
   "version": "3.7.12"
  }
 },
 "nbformat": 4,
 "nbformat_minor": 2
}
